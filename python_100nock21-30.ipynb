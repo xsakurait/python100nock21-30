{
 "cells": [
  {
   "cell_type": "code",
   "execution_count": 3,
   "id": "efb50712",
   "metadata": {},
   "outputs": [],
   "source": [
    "# for key,value in dictionary,items():"
   ]
  },
  {
   "cell_type": "code",
   "execution_count": 4,
   "id": "d4452507",
   "metadata": {},
   "outputs": [],
   "source": [
    "# dict.get('c')=dict['c']"
   ]
  },
  {
   "cell_type": "code",
   "execution_count": 7,
   "id": "f5f4b103",
   "metadata": {},
   "outputs": [
    {
     "name": "stdout",
     "output_type": "stream",
     "text": [
      "1 2\n",
      "2 3\n",
      "3 4\n"
     ]
    }
   ],
   "source": [
    "lasts=[1,2,3]\n",
    "firsts=[2,3,4]\n",
    "for last,first in zip(lasts,firsts):\n",
    "    print(last,first)"
   ]
  },
  {
   "cell_type": "code",
   "execution_count": 9,
   "id": "6e5e52ec",
   "metadata": {},
   "outputs": [
    {
     "name": "stdout",
     "output_type": "stream",
     "text": [
      "0 1\n",
      "1 2\n",
      "2 3\n"
     ]
    }
   ],
   "source": [
    "for i,last in enumerate(lasts):\n",
    "    print(i,last)"
   ]
  },
  {
   "cell_type": "code",
   "execution_count": null,
   "id": "d9699963",
   "metadata": {},
   "outputs": [],
   "source": []
  }
 ],
 "metadata": {
  "kernelspec": {
   "display_name": "Python 3",
   "language": "python",
   "name": "python3"
  },
  "language_info": {
   "codemirror_mode": {
    "name": "ipython",
    "version": 3
   },
   "file_extension": ".py",
   "mimetype": "text/x-python",
   "name": "python",
   "nbconvert_exporter": "python",
   "pygments_lexer": "ipython3",
   "version": "3.8.8"
  },
  "varInspector": {
   "cols": {
    "lenName": 16,
    "lenType": 16,
    "lenVar": 40
   },
   "kernels_config": {
    "python": {
     "delete_cmd_postfix": "",
     "delete_cmd_prefix": "del ",
     "library": "var_list.py",
     "varRefreshCmd": "print(var_dic_list())"
    },
    "r": {
     "delete_cmd_postfix": ") ",
     "delete_cmd_prefix": "rm(",
     "library": "var_list.r",
     "varRefreshCmd": "cat(var_dic_list()) "
    }
   },
   "types_to_exclude": [
    "module",
    "function",
    "builtin_function_or_method",
    "instance",
    "_Feature"
   ],
   "window_display": false
  }
 },
 "nbformat": 4,
 "nbformat_minor": 5
}
